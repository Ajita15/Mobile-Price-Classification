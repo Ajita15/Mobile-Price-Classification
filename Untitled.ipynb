{
 "cells": [
  {
   "cell_type": "code",
   "execution_count": 1,
   "metadata": {
    "collapsed": true
   },
   "outputs": [],
   "source": [
    "import numpy as np\n",
    "import matplotlib.pyplot as plt\n",
    "import pandas as pd\n",
    "%matplotlib inline"
   ]
  },
  {
   "cell_type": "code",
   "execution_count": 2,
   "metadata": {
    "collapsed": true
   },
   "outputs": [],
   "source": [
    "train_df=pd.read_csv(\"train.csv\")\n",
    "test_df=pd.read_csv(\"test.csv\")"
   ]
  },
  {
   "cell_type": "code",
   "execution_count": 3,
   "metadata": {
    "collapsed": false
   },
   "outputs": [
    {
     "name": "stdout",
     "output_type": "stream",
     "text": [
      "(2000, 21)\n"
     ]
    }
   ],
   "source": [
    "print(train_df.shape)"
   ]
  },
  {
   "cell_type": "code",
   "execution_count": 4,
   "metadata": {
    "collapsed": false
   },
   "outputs": [
    {
     "name": "stdout",
     "output_type": "stream",
     "text": [
      "<class 'pandas.core.frame.DataFrame'>\n",
      "RangeIndex: 2000 entries, 0 to 1999\n",
      "Data columns (total 21 columns):\n",
      "battery_power    2000 non-null int64\n",
      "blue             2000 non-null int64\n",
      "clock_speed      2000 non-null float64\n",
      "dual_sim         2000 non-null int64\n",
      "fc               2000 non-null int64\n",
      "four_g           2000 non-null int64\n",
      "int_memory       2000 non-null int64\n",
      "m_dep            2000 non-null float64\n",
      "mobile_wt        2000 non-null int64\n",
      "n_cores          2000 non-null int64\n",
      "pc               2000 non-null int64\n",
      "px_height        2000 non-null int64\n",
      "px_width         2000 non-null int64\n",
      "ram              2000 non-null int64\n",
      "sc_h             2000 non-null int64\n",
      "sc_w             2000 non-null int64\n",
      "talk_time        2000 non-null int64\n",
      "three_g          2000 non-null int64\n",
      "touch_screen     2000 non-null int64\n",
      "wifi             2000 non-null int64\n",
      "price_range      2000 non-null int64\n",
      "dtypes: float64(2), int64(19)\n",
      "memory usage: 328.2 KB\n"
     ]
    }
   ],
   "source": [
    "train_df.info()"
   ]
  },
  {
   "cell_type": "code",
   "execution_count": 5,
   "metadata": {
    "collapsed": false,
    "scrolled": true
   },
   "outputs": [
    {
     "name": "stdout",
     "output_type": "stream",
     "text": [
      "<class 'pandas.core.frame.DataFrame'>\n",
      "RangeIndex: 1000 entries, 0 to 999\n",
      "Data columns (total 21 columns):\n",
      "id               1000 non-null int64\n",
      "battery_power    1000 non-null int64\n",
      "blue             1000 non-null int64\n",
      "clock_speed      1000 non-null float64\n",
      "dual_sim         1000 non-null int64\n",
      "fc               1000 non-null int64\n",
      "four_g           1000 non-null int64\n",
      "int_memory       1000 non-null int64\n",
      "m_dep            1000 non-null float64\n",
      "mobile_wt        1000 non-null int64\n",
      "n_cores          1000 non-null int64\n",
      "pc               1000 non-null int64\n",
      "px_height        1000 non-null int64\n",
      "px_width         1000 non-null int64\n",
      "ram              1000 non-null int64\n",
      "sc_h             1000 non-null int64\n",
      "sc_w             1000 non-null int64\n",
      "talk_time        1000 non-null int64\n",
      "three_g          1000 non-null int64\n",
      "touch_screen     1000 non-null int64\n",
      "wifi             1000 non-null int64\n",
      "dtypes: float64(2), int64(19)\n",
      "memory usage: 164.1 KB\n"
     ]
    }
   ],
   "source": [
    "test_df.info()"
   ]
  },
  {
   "cell_type": "code",
   "execution_count": 6,
   "metadata": {
    "collapsed": false
   },
   "outputs": [
    {
     "name": "stdout",
     "output_type": "stream",
     "text": [
      "(1000, 21)\n"
     ]
    }
   ],
   "source": [
    "print(test_df.shape)"
   ]
  },
  {
   "cell_type": "code",
   "execution_count": 7,
   "metadata": {
    "collapsed": false,
    "scrolled": true
   },
   "outputs": [
    {
     "name": "stdout",
     "output_type": "stream",
     "text": [
      "   id  battery_power  blue  clock_speed  dual_sim  fc  four_g  int_memory  \\\n",
      "0   1           1043     1          1.8         1  14       0           5   \n",
      "1   2            841     1          0.5         1   4       1          61   \n",
      "2   3           1807     1          2.8         0   1       0          27   \n",
      "3   4           1546     0          0.5         1  18       1          25   \n",
      "4   5           1434     0          1.4         0  11       1          49   \n",
      "5   6           1464     1          2.9         1   5       1          50   \n",
      "6   7           1718     0          2.4         0   1       0          47   \n",
      "7   8            833     0          2.4         1   0       0          62   \n",
      "8   9           1111     1          2.9         1   9       1          25   \n",
      "9  10           1520     0          0.5         0   1       0          25   \n",
      "\n",
      "   m_dep  mobile_wt  ...   pc  px_height  px_width   ram  sc_h  sc_w  \\\n",
      "0    0.1        193  ...   16        226      1412  3476    12     7   \n",
      "1    0.8        191  ...   12        746       857  3895     6     0   \n",
      "2    0.9        186  ...    4       1270      1366  2396    17    10   \n",
      "3    0.5         96  ...   20        295      1752  3893    10     0   \n",
      "4    0.5        108  ...   18        749       810  1773    15     8   \n",
      "5    0.8        198  ...    9        569       939  3506    10     7   \n",
      "6    1.0        156  ...    3       1283      1374  3873    14     2   \n",
      "7    0.8        111  ...    2       1312      1880  1495     7     2   \n",
      "8    0.6        101  ...   19        556       876  3485    11     9   \n",
      "9    0.5        171  ...   20         52      1009   651     6     0   \n",
      "\n",
      "   talk_time  three_g  touch_screen  wifi  \n",
      "0          2        0             1     0  \n",
      "1          7        1             0     0  \n",
      "2         10        0             1     1  \n",
      "3          7        1             1     0  \n",
      "4          7        1             0     1  \n",
      "5          3        1             1     1  \n",
      "6         10        0             0     0  \n",
      "7         18        0             1     1  \n",
      "8         10        1             1     0  \n",
      "9          5        1             0     1  \n",
      "\n",
      "[10 rows x 21 columns]\n"
     ]
    }
   ],
   "source": [
    "print(test_df.head(10))"
   ]
  },
  {
   "cell_type": "code",
   "execution_count": 9,
   "metadata": {
    "collapsed": false,
    "scrolled": true
   },
   "outputs": [
    {
     "name": "stdout",
     "output_type": "stream",
     "text": [
      "   battery_power  blue  clock_speed  dual_sim  fc  four_g  int_memory  m_dep  \\\n",
      "0            842     0          2.2         0   1       0           7    0.6   \n",
      "1           1021     1          0.5         1   0       1          53    0.7   \n",
      "2            563     1          0.5         1   2       1          41    0.9   \n",
      "3            615     1          2.5         0   0       0          10    0.8   \n",
      "4           1821     1          1.2         0  13       1          44    0.6   \n",
      "5           1859     0          0.5         1   3       0          22    0.7   \n",
      "6           1821     0          1.7         0   4       1          10    0.8   \n",
      "7           1954     0          0.5         1   0       0          24    0.8   \n",
      "8           1445     1          0.5         0   0       0          53    0.7   \n",
      "9            509     1          0.6         1   2       1           9    0.1   \n",
      "\n",
      "   mobile_wt  n_cores     ...       px_height  px_width   ram  sc_h  sc_w  \\\n",
      "0        188        2     ...              20       756  2549     9     7   \n",
      "1        136        3     ...             905      1988  2631    17     3   \n",
      "2        145        5     ...            1263      1716  2603    11     2   \n",
      "3        131        6     ...            1216      1786  2769    16     8   \n",
      "4        141        2     ...            1208      1212  1411     8     2   \n",
      "5        164        1     ...            1004      1654  1067    17     1   \n",
      "6        139        8     ...             381      1018  3220    13     8   \n",
      "7        187        4     ...             512      1149   700    16     3   \n",
      "8        174        7     ...             386       836  1099    17     1   \n",
      "9         93        5     ...            1137      1224   513    19    10   \n",
      "\n",
      "   talk_time  three_g  touch_screen  wifi  price_range  \n",
      "0         19        0             0     1            1  \n",
      "1          7        1             1     0            2  \n",
      "2          9        1             1     0            2  \n",
      "3         11        1             0     0            2  \n",
      "4         15        1             1     0            1  \n",
      "5         10        1             0     0            1  \n",
      "6         18        1             0     1            3  \n",
      "7          5        1             1     1            0  \n",
      "8         20        1             0     0            0  \n",
      "9         12        1             0     0            0  \n",
      "\n",
      "[10 rows x 21 columns]\n"
     ]
    }
   ],
   "source": [
    "print(train_df.head(10))"
   ]
  },
  {
   "cell_type": "code",
   "execution_count": 6,
   "metadata": {
    "collapsed": false
   },
   "outputs": [],
   "source": [
    "train_df['price_range'].value_counts()\n",
    "train=train_df.copy()"
   ]
  },
  {
   "cell_type": "code",
   "execution_count": 7,
   "metadata": {
    "collapsed": false
   },
   "outputs": [],
   "source": [
    "train_y=train_df['price_range']\n",
    "train_X=train_df.drop(['price_range'],axis=1)"
   ]
  },
  {
   "cell_type": "code",
   "execution_count": 8,
   "metadata": {
    "collapsed": false
   },
   "outputs": [],
   "source": [
    "from sklearn.cross_validation import train_test_split\n",
    "train_x_df,test_x_df,train_y_df,test_y_df=train_test_split(train_X,train_y,test_size=.20)"
   ]
  },
  {
   "cell_type": "code",
   "execution_count": 9,
   "metadata": {
    "collapsed": false
   },
   "outputs": [
    {
     "name": "stdout",
     "output_type": "stream",
     "text": [
      "(1600, 20)\n",
      "(400, 20)\n"
     ]
    }
   ],
   "source": [
    "print(train_x_df.shape)\n",
    "print(test_x_df.shape)"
   ]
  },
  {
   "cell_type": "code",
   "execution_count": 18,
   "metadata": {
    "collapsed": false
   },
   "outputs": [
    {
     "name": "stdout",
     "output_type": "stream",
     "text": [
      "0.795\n",
      "0.7525\n"
     ]
    }
   ],
   "source": [
    "from sklearn.linear_model import LogisticRegression\n",
    "model1=LogisticRegression()\n",
    "model1.fit(train_x_df,train_y_df)\n",
    "print(model1.score(train_x_df,train_y_df))\n",
    "print(model1.score(test_x_df,test_y_df))"
   ]
  },
  {
   "cell_type": "code",
   "execution_count": 10,
   "metadata": {
    "collapsed": false
   },
   "outputs": [
    {
     "name": "stdout",
     "output_type": "stream",
     "text": [
      "0.8525\n"
     ]
    }
   ],
   "source": [
    "from sklearn.tree import DecisionTreeClassifier\n",
    "model2=DecisionTreeClassifier()\n",
    "model2.fit(train_x_df,train_y_df)\n",
    "print(model2.score(test_x_df,test_y_df))"
   ]
  },
  {
   "cell_type": "code",
   "execution_count": 11,
   "metadata": {
    "collapsed": true
   },
   "outputs": [],
   "source": [
    "dict1={}\n",
    "for x in range(len(train_x_df.columns)):\n",
    "    dict1[x]=train_x_df.columns[x]"
   ]
  },
  {
   "cell_type": "code",
   "execution_count": 12,
   "metadata": {
    "collapsed": false
   },
   "outputs": [
    {
     "name": "stdout",
     "output_type": "stream",
     "text": [
      "{0: 'battery_power', 1: 'blue', 2: 'clock_speed', 3: 'dual_sim', 4: 'fc', 5: 'four_g', 6: 'int_memory', 7: 'm_dep', 8: 'mobile_wt', 9: 'n_cores', 10: 'pc', 11: 'px_height', 12: 'px_width', 13: 'ram', 14: 'sc_h', 15: 'sc_w', 16: 'talk_time', 17: 'three_g', 18: 'touch_screen', 19: 'wifi'}\n"
     ]
    }
   ],
   "source": [
    "print(dict1)"
   ]
  },
  {
   "cell_type": "code",
   "execution_count": 13,
   "metadata": {
    "collapsed": false
   },
   "outputs": [
    {
     "name": "stdout",
     "output_type": "stream",
     "text": [
      "[0, 1, 2, 3, 4, 5, 6, 7, 8, 9, 10, 11, 12, 13, 14, 15, 16, 17, 18, 19]\n"
     ]
    }
   ],
   "source": [
    "x=[v for v in range(len(train_x_df.columns))]\n",
    "def maped(x):\n",
    "    return dict1[x]\n",
    "print(x)"
   ]
  },
  {
   "cell_type": "code",
   "execution_count": 18,
   "metadata": {
    "collapsed": false,
    "scrolled": true
   },
   "outputs": [
    {
     "data": {
      "text/plain": [
       "([<matplotlib.axis.XTick at 0x1cd7d415ba8>,\n",
       "  <matplotlib.axis.XTick at 0x1cd7d3ebc50>,\n",
       "  <matplotlib.axis.XTick at 0x1cd7d3f0dd8>,\n",
       "  <matplotlib.axis.XTick at 0x1cd7d500da0>,\n",
       "  <matplotlib.axis.XTick at 0x1cd7d5037f0>,\n",
       "  <matplotlib.axis.XTick at 0x1cd7d507240>,\n",
       "  <matplotlib.axis.XTick at 0x1cd7d507c50>,\n",
       "  <matplotlib.axis.XTick at 0x1cd7d50d6a0>,\n",
       "  <matplotlib.axis.XTick at 0x1cd7d5110f0>,\n",
       "  <matplotlib.axis.XTick at 0x1cd7d511b00>,\n",
       "  <matplotlib.axis.XTick at 0x1cd7d514550>,\n",
       "  <matplotlib.axis.XTick at 0x1cd7d514f60>,\n",
       "  <matplotlib.axis.XTick at 0x1cd7d5189b0>,\n",
       "  <matplotlib.axis.XTick at 0x1cd7d51c400>,\n",
       "  <matplotlib.axis.XTick at 0x1cd7d51ce10>,\n",
       "  <matplotlib.axis.XTick at 0x1cd7d521860>,\n",
       "  <matplotlib.axis.XTick at 0x1cd7d5252b0>,\n",
       "  <matplotlib.axis.XTick at 0x1cd7d525cc0>,\n",
       "  <matplotlib.axis.XTick at 0x1cd7d528710>,\n",
       "  <matplotlib.axis.XTick at 0x1cd7d52c160>],\n",
       " <a list of 20 Text xticklabel objects>)"
      ]
     },
     "execution_count": 18,
     "metadata": {},
     "output_type": "execute_result"
    },
    {
     "data": {
      "image/png": "[encoded data removed]",
      "text/plain": [
       "<matplotlib.figure.Figure at 0x1cd7d366c50>"
      ]
     },
     "metadata": {},
     "output_type": "display_data"
    }
   ],
   "source": [
    "plt.bar(x,model2.feature_importances_)\n",
    "plt.xticks(x,[dict1[v] for v in range(len(x))],rotation=90)"
   ]
  },
  {
   "cell_type": "code",
   "execution_count": 19,
   "metadata": {
    "collapsed": true
   },
   "outputs": [],
   "source": [
    "features_df=pd.DataFrame(train_x_df.columns)"
   ]
  },
  {
   "cell_type": "code",
   "execution_count": 20,
   "metadata": {
    "collapsed": true
   },
   "outputs": [],
   "source": [
    "features_df['features']=model2.feature_importances_"
   ]
  },
  {
   "cell_type": "code",
   "execution_count": 21,
   "metadata": {
    "collapsed": false,
    "scrolled": true
   },
   "outputs": [
    {
     "data": {
      "text/html": [
       "<div>\n",
       "<table border=\"1\" class=\"dataframe\">\n",
       "  <thead>\n",
       "    <tr style=\"text-align: right;\">\n",
       "      <th></th>\n",
       "      <th>0</th>\n",
       "      <th>features</th>\n",
       "    </tr>\n",
       "  </thead>\n",
       "  <tbody>\n",
       "    <tr>\n",
       "      <th>3</th>\n",
       "      <td>dual_sim</td>\n",
       "      <td>0.000000</td>\n",
       "    </tr>\n",
       "    <tr>\n",
       "      <th>5</th>\n",
       "      <td>four_g</td>\n",
       "      <td>0.000000</td>\n",
       "    </tr>\n",
       "    <tr>\n",
       "      <th>18</th>\n",
       "      <td>touch_screen</td>\n",
       "      <td>0.000000</td>\n",
       "    </tr>\n",
       "    <tr>\n",
       "      <th>19</th>\n",
       "      <td>wifi</td>\n",
       "      <td>0.000834</td>\n",
       "    </tr>\n",
       "    <tr>\n",
       "      <th>17</th>\n",
       "      <td>three_g</td>\n",
       "      <td>0.000834</td>\n",
       "    </tr>\n",
       "    <tr>\n",
       "      <th>7</th>\n",
       "      <td>m_dep</td>\n",
       "      <td>0.001389</td>\n",
       "    </tr>\n",
       "    <tr>\n",
       "      <th>14</th>\n",
       "      <td>sc_h</td>\n",
       "      <td>0.002593</td>\n",
       "    </tr>\n",
       "    <tr>\n",
       "      <th>6</th>\n",
       "      <td>int_memory</td>\n",
       "      <td>0.003513</td>\n",
       "    </tr>\n",
       "    <tr>\n",
       "      <th>1</th>\n",
       "      <td>blue</td>\n",
       "      <td>0.003834</td>\n",
       "    </tr>\n",
       "    <tr>\n",
       "      <th>4</th>\n",
       "      <td>fc</td>\n",
       "      <td>0.004906</td>\n",
       "    </tr>\n",
       "    <tr>\n",
       "      <th>15</th>\n",
       "      <td>sc_w</td>\n",
       "      <td>0.006231</td>\n",
       "    </tr>\n",
       "    <tr>\n",
       "      <th>16</th>\n",
       "      <td>talk_time</td>\n",
       "      <td>0.008381</td>\n",
       "    </tr>\n",
       "    <tr>\n",
       "      <th>10</th>\n",
       "      <td>pc</td>\n",
       "      <td>0.011593</td>\n",
       "    </tr>\n",
       "    <tr>\n",
       "      <th>9</th>\n",
       "      <td>n_cores</td>\n",
       "      <td>0.013056</td>\n",
       "    </tr>\n",
       "    <tr>\n",
       "      <th>2</th>\n",
       "      <td>clock_speed</td>\n",
       "      <td>0.014868</td>\n",
       "    </tr>\n",
       "    <tr>\n",
       "      <th>8</th>\n",
       "      <td>mobile_wt</td>\n",
       "      <td>0.016052</td>\n",
       "    </tr>\n",
       "    <tr>\n",
       "      <th>11</th>\n",
       "      <td>px_height</td>\n",
       "      <td>0.067479</td>\n",
       "    </tr>\n",
       "    <tr>\n",
       "      <th>0</th>\n",
       "      <td>battery_power</td>\n",
       "      <td>0.096875</td>\n",
       "    </tr>\n",
       "    <tr>\n",
       "      <th>12</th>\n",
       "      <td>px_width</td>\n",
       "      <td>0.101413</td>\n",
       "    </tr>\n",
       "    <tr>\n",
       "      <th>13</th>\n",
       "      <td>ram</td>\n",
       "      <td>0.646148</td>\n",
       "    </tr>\n",
       "  </tbody>\n",
       "</table>\n",
       "</div>"
      ],
      "text/plain": [
       "                0  features\n",
       "3        dual_sim  0.000000\n",
       "5          four_g  0.000000\n",
       "18   touch_screen  0.000000\n",
       "19           wifi  0.000834\n",
       "17        three_g  0.000834\n",
       "7           m_dep  0.001389\n",
       "14           sc_h  0.002593\n",
       "6      int_memory  0.003513\n",
       "1            blue  0.003834\n",
       "4              fc  0.004906\n",
       "15           sc_w  0.006231\n",
       "16      talk_time  0.008381\n",
       "10             pc  0.011593\n",
       "9         n_cores  0.013056\n",
       "2     clock_speed  0.014868\n",
       "8       mobile_wt  0.016052\n",
       "11      px_height  0.067479\n",
       "0   battery_power  0.096875\n",
       "12       px_width  0.101413\n",
       "13            ram  0.646148"
      ]
     },
     "execution_count": 21,
     "metadata": {},
     "output_type": "execute_result"
    }
   ],
   "source": [
    "features_df.sort_values(by='features')"
   ]
  },
  {
   "cell_type": "code",
   "execution_count": 53,
   "metadata": {
    "collapsed": false
   },
   "outputs": [
    {
     "name": "stdout",
     "output_type": "stream",
     "text": [
      "0.8525\n"
     ]
    }
   ],
   "source": [
    "'''train_x_df2=train_x_df.drop(['dual_sim','touch_screen','wifi'],axis=1)\n",
    "test_x_df2=test_x_df.drop(['three_g','touch_screen','wifi'],axis=1)\n",
    "model2.fit(train_x_df2,train_y_df)\n",
    "print(model2.score(test_x_df2,test_y_df))'''"
   ]
  },
  {
   "cell_type": "code",
   "execution_count": 22,
   "metadata": {
    "collapsed": false,
    "scrolled": true
   },
   "outputs": [
    {
     "name": "stdout",
     "output_type": "stream",
     "text": [
      "               battery_power      blue  clock_speed  dual_sim        fc  \\\n",
      "battery_power       1.000000  0.011252     0.011482 -0.041847  0.033334   \n",
      "blue                0.011252  1.000000     0.021419  0.035198  0.003593   \n",
      "clock_speed         0.011482  0.021419     1.000000 -0.001315 -0.000434   \n",
      "dual_sim           -0.041847  0.035198    -0.001315  1.000000 -0.029123   \n",
      "fc                  0.033334  0.003593    -0.000434 -0.029123  1.000000   \n",
      "four_g              0.015665  0.013443    -0.043073  0.003187 -0.016560   \n",
      "int_memory         -0.004004  0.041177     0.006545 -0.015679 -0.029133   \n",
      "m_dep               0.034085  0.004049    -0.014364 -0.022142 -0.001791   \n",
      "mobile_wt           0.001844 -0.008605     0.012350 -0.008979  0.023618   \n",
      "n_cores            -0.029727  0.036161    -0.005724 -0.024658 -0.013356   \n",
      "pc                  0.031441 -0.009952    -0.005245 -0.017143  0.644595   \n",
      "px_height           0.014901 -0.006872    -0.014523 -0.020875 -0.009990   \n",
      "px_width           -0.008402 -0.041533    -0.009476  0.014291 -0.005176   \n",
      "ram                -0.000653  0.026351     0.003443  0.041072  0.015099   \n",
      "sc_h               -0.029959 -0.002952    -0.029078 -0.011949 -0.011014   \n",
      "sc_w               -0.021421  0.000613    -0.007378 -0.016666 -0.012373   \n",
      "talk_time           0.052510  0.013934    -0.011432 -0.039404 -0.006829   \n",
      "three_g             0.011522 -0.030236    -0.046433 -0.014008  0.001793   \n",
      "touch_screen       -0.010516  0.010061     0.019756 -0.017117 -0.014828   \n",
      "wifi               -0.008343 -0.021863    -0.024471  0.022740  0.020085   \n",
      "price_range         0.200723  0.020573    -0.006606  0.017444  0.021998   \n",
      "\n",
      "                 four_g  int_memory     m_dep  mobile_wt   n_cores  \\\n",
      "battery_power  0.015665   -0.004004  0.034085   0.001844 -0.029727   \n",
      "blue           0.013443    0.041177  0.004049  -0.008605  0.036161   \n",
      "clock_speed   -0.043073    0.006545 -0.014364   0.012350 -0.005724   \n",
      "dual_sim       0.003187   -0.015679 -0.022142  -0.008979 -0.024658   \n",
      "fc            -0.016560   -0.029133 -0.001791   0.023618 -0.013356   \n",
      "four_g         1.000000    0.008690 -0.001823  -0.016537 -0.029706   \n",
      "int_memory     0.008690    1.000000  0.006886  -0.034214 -0.028310   \n",
      "m_dep         -0.001823    0.006886  1.000000   0.021756 -0.003504   \n",
      "mobile_wt     -0.016537   -0.034214  0.021756   1.000000 -0.018989   \n",
      "n_cores       -0.029706   -0.028310 -0.003504  -0.018989  1.000000   \n",
      "pc            -0.005598   -0.033273  0.026282   0.018844 -0.001193   \n",
      "px_height     -0.019236    0.010441  0.025263   0.000939 -0.006872   \n",
      "px_width       0.007448   -0.008335  0.023566   0.000090  0.024480   \n",
      "ram            0.007313    0.032813 -0.009434  -0.002581  0.004868   \n",
      "sc_h           0.027166    0.037771 -0.025348  -0.033855 -0.000315   \n",
      "sc_w           0.037005    0.011731 -0.018388  -0.020761  0.025826   \n",
      "talk_time     -0.046628   -0.002790  0.017003   0.006209  0.013148   \n",
      "three_g        0.584246   -0.009366 -0.012065   0.001551 -0.014733   \n",
      "touch_screen   0.016758   -0.026999 -0.002638  -0.014368  0.023774   \n",
      "wifi          -0.017620    0.006993 -0.028353  -0.000409 -0.009964   \n",
      "price_range    0.014772    0.044435  0.000853  -0.030302  0.004399   \n",
      "\n",
      "                  ...       px_height  px_width       ram      sc_h      sc_w  \\\n",
      "battery_power     ...        0.014901 -0.008402 -0.000653 -0.029959 -0.021421   \n",
      "blue              ...       -0.006872 -0.041533  0.026351 -0.002952  0.000613   \n",
      "clock_speed       ...       -0.014523 -0.009476  0.003443 -0.029078 -0.007378   \n",
      "dual_sim          ...       -0.020875  0.014291  0.041072 -0.011949 -0.016666   \n",
      "fc                ...       -0.009990 -0.005176  0.015099 -0.011014 -0.012373   \n",
      "four_g            ...       -0.019236  0.007448  0.007313  0.027166  0.037005   \n",
      "int_memory        ...        0.010441 -0.008335  0.032813  0.037771  0.011731   \n",
      "m_dep             ...        0.025263  0.023566 -0.009434 -0.025348 -0.018388   \n",
      "mobile_wt         ...        0.000939  0.000090 -0.002581 -0.033855 -0.020761   \n",
      "n_cores           ...       -0.006872  0.024480  0.004868 -0.000315  0.025826   \n",
      "pc                ...       -0.018465  0.004196  0.028984  0.004938 -0.023819   \n",
      "px_height         ...        1.000000  0.510664 -0.020352  0.059615  0.043038   \n",
      "px_width          ...        0.510664  1.000000  0.004105  0.021599  0.034699   \n",
      "ram               ...       -0.020352  0.004105  1.000000  0.015996  0.035576   \n",
      "sc_h              ...        0.059615  0.021599  0.015996  1.000000  0.506144   \n",
      "sc_w              ...        0.043038  0.034699  0.035576  0.506144  1.000000   \n",
      "talk_time         ...       -0.010645  0.006720  0.010820 -0.017335 -0.022821   \n",
      "three_g           ...       -0.031174  0.000350  0.015795  0.012033  0.030941   \n",
      "touch_screen      ...        0.021891 -0.001628 -0.030455 -0.020023  0.012720   \n",
      "wifi              ...        0.051824  0.030319  0.022669  0.025929  0.035423   \n",
      "price_range       ...        0.148858  0.165818  0.917046  0.022986  0.038711   \n",
      "\n",
      "               talk_time   three_g  touch_screen      wifi  price_range  \n",
      "battery_power   0.052510  0.011522     -0.010516 -0.008343     0.200723  \n",
      "blue            0.013934 -0.030236      0.010061 -0.021863     0.020573  \n",
      "clock_speed    -0.011432 -0.046433      0.019756 -0.024471    -0.006606  \n",
      "dual_sim       -0.039404 -0.014008     -0.017117  0.022740     0.017444  \n",
      "fc             -0.006829  0.001793     -0.014828  0.020085     0.021998  \n",
      "four_g         -0.046628  0.584246      0.016758 -0.017620     0.014772  \n",
      "int_memory     -0.002790 -0.009366     -0.026999  0.006993     0.044435  \n",
      "m_dep           0.017003 -0.012065     -0.002638 -0.028353     0.000853  \n",
      "mobile_wt       0.006209  0.001551     -0.014368 -0.000409    -0.030302  \n",
      "n_cores         0.013148 -0.014733      0.023774 -0.009964     0.004399  \n",
      "pc              0.014657 -0.001322     -0.008742  0.005389     0.033599  \n",
      "px_height      -0.010645 -0.031174      0.021891  0.051824     0.148858  \n",
      "px_width        0.006720  0.000350     -0.001628  0.030319     0.165818  \n",
      "ram             0.010820  0.015795     -0.030455  0.022669     0.917046  \n",
      "sc_h           -0.017335  0.012033     -0.020023  0.025929     0.022986  \n",
      "sc_w           -0.022821  0.030941      0.012720  0.035423     0.038711  \n",
      "talk_time       1.000000 -0.042688      0.017196 -0.029504     0.021859  \n",
      "three_g        -0.042688  1.000000      0.013917  0.004316     0.023611  \n",
      "touch_screen    0.017196  0.013917      1.000000  0.011917    -0.030411  \n",
      "wifi           -0.029504  0.004316      0.011917  1.000000     0.018785  \n",
      "price_range     0.021859  0.023611     -0.030411  0.018785     1.000000  \n",
      "\n",
      "[21 rows x 21 columns]\n"
     ]
    },
    {
     "data": {
      "text/plain": [
       "<matplotlib.axes._subplots.AxesSubplot at 0x1cd7d6e05c0>"
      ]
     },
     "execution_count": 22,
     "metadata": {},
     "output_type": "execute_result"
    },
    {
     "data": {
      "image/png": "[encoded data removed]",
      "text/plain": [
       "<matplotlib.figure.Figure at 0x1cd7d4110b8>"
      ]
     },
     "metadata": {},
     "output_type": "display_data"
    }
   ],
   "source": [
    "import seaborn as sns\n",
    "corr1=train.corr()\n",
    "print(corr1)\n",
    "sns.heatmap(corr1)"
   ]
  },
  {
   "cell_type": "code",
   "execution_count": 18,
   "metadata": {
    "collapsed": false
   },
   "outputs": [
    {
     "data": {
      "text/plain": [
       "<matplotlib.axes._subplots.AxesSubplot at 0x2a2e9e28fd0>"
      ]
     },
     "execution_count": 18,
     "metadata": {},
     "output_type": "execute_result"
    },
    {
     "data": {
      "image/png": "[encoded data removed]",
      "text/plain": [
       "<matplotlib.figure.Figure at 0x2a2e9e20d68>"
      ]
     },
     "metadata": {},
     "output_type": "display_data"
    }
   ],
   "source": [
    "train['Area_px']=train['px_height']*train['px_width']\n",
    "sns.heatmap(train.corr())"
   ]
  },
  {
   "cell_type": "code",
   "execution_count": 23,
   "metadata": {
    "collapsed": false
   },
   "outputs": [
    {
     "data": {
      "text/plain": [
       "<matplotlib.axes._subplots.AxesSubplot at 0x1cd7d735a58>"
      ]
     },
     "execution_count": 23,
     "metadata": {},
     "output_type": "execute_result"
    },
    {
     "data": {
      "image/png": "[encoded data removed]",
      "text/plain": [
       "<matplotlib.figure.Figure at 0x1cd7d7ba208>"
      ]
     },
     "metadata": {},
     "output_type": "display_data"
    }
   ],
   "source": [
    "sns.heatmap(train.corr())"
   ]
  },
  {
   "cell_type": "code",
   "execution_count": 25,
   "metadata": {
    "collapsed": false,
    "scrolled": false
   },
   "outputs": [
    {
     "data": {
      "text/plain": [
       "0    0\n",
       "1    1\n",
       "2    1\n",
       "3    1\n",
       "4    1\n",
       "5    1\n",
       "6    1\n",
       "7    1\n",
       "8    1\n",
       "9    1\n",
       "Name: three_g, dtype: int64"
      ]
     },
     "execution_count": 25,
     "metadata": {},
     "output_type": "execute_result"
    }
   ],
   "source": [
    "train['three_g'].head(10)"
   ]
  },
  {
   "cell_type": "code",
   "execution_count": 45,
   "metadata": {
    "collapsed": false
   },
   "outputs": [
    {
     "name": "stderr",
     "output_type": "stream",
     "text": [
      "C:\\Anaconda3\\lib\\site-packages\\ipykernel\\__main__.py:1: SettingWithCopyWarning: \n",
      "A value is trying to be set on a copy of a slice from a DataFrame.\n",
      "Try using .loc[row_indexer,col_indexer] = value instead\n",
      "\n",
      "See the caveats in the documentation: http://pandas.pydata.org/pandas-docs/stable/indexing.html#indexing-view-versus-copy\n",
      "  if __name__ == '__main__':\n",
      "C:\\Anaconda3\\lib\\site-packages\\ipykernel\\__main__.py:2: SettingWithCopyWarning: \n",
      "A value is trying to be set on a copy of a slice from a DataFrame.\n",
      "Try using .loc[row_indexer,col_indexer] = value instead\n",
      "\n",
      "See the caveats in the documentation: http://pandas.pydata.org/pandas-docs/stable/indexing.html#indexing-view-versus-copy\n",
      "  from ipykernel import kernelapp as app\n"
     ]
    }
   ],
   "source": [
    "train_x_df['four_three_g']=0.5*train_x_df['four_g']+train_x_df['three_g']\n",
    "test_x_df['four_three_g']=0.5*test_x_df['four_g']+test_x_df['three_g']"
   ]
  },
  {
   "cell_type": "code",
   "execution_count": 30,
   "metadata": {
    "collapsed": false,
    "scrolled": true
   },
   "outputs": [
    {
     "data": {
      "text/plain": [
       "<matplotlib.axes._subplots.AxesSubplot at 0x1cd7ea05e10>"
      ]
     },
     "execution_count": 30,
     "metadata": {},
     "output_type": "execute_result"
    },
    {
     "data": {
      "image/png": "[encoded data removed]",
      "text/plain": [
       "<matplotlib.figure.Figure at 0x1cd7ea1a710>"
      ]
     },
     "metadata": {},
     "output_type": "display_data"
    }
   ],
   "source": [
    "v=train.corr()\n",
    "sns.heatmap(v)"
   ]
  },
  {
   "cell_type": "code",
   "execution_count": 55,
   "metadata": {
    "collapsed": false,
    "scrolled": true
   },
   "outputs": [],
   "source": [
    "train_x2_df=train_x_df.copy()\n",
    "test_x2_df=test_x_df.copy()\n",
    "train_x2_df=train_x2_df.drop(['four_g','three_g'],axis=1)\n",
    "test_x2_df=test_x2_df.drop(['four_g','three_g'],axis=1)"
   ]
  },
  {
   "cell_type": "code",
   "execution_count": 38,
   "metadata": {
    "collapsed": true
   },
   "outputs": [],
   "source": [
    "'''variables=[x for x in train2.columns if x not in ['price_range','three_g','four_g']]\n",
    "target='price_range'\n",
    "train_x2_df=train2[variables]\n",
    "train_y2_df=train2['price_range']'''"
   ]
  },
  {
   "cell_type": "code",
   "execution_count": 56,
   "metadata": {
    "collapsed": false
   },
   "outputs": [
    {
     "data": {
      "text/plain": [
       "DecisionTreeClassifier(class_weight=None, criterion='gini', max_depth=None,\n",
       "            max_features=None, max_leaf_nodes=None, min_samples_leaf=1,\n",
       "            min_samples_split=2, min_weight_fraction_leaf=0.0,\n",
       "            presort=False, random_state=None, splitter='best')"
      ]
     },
     "execution_count": 56,
     "metadata": {},
     "output_type": "execute_result"
    }
   ],
   "source": [
    "model2.fit(train_x2_df,train_y_df)"
   ]
  },
  {
   "cell_type": "code",
   "execution_count": 57,
   "metadata": {
    "collapsed": true
   },
   "outputs": [],
   "source": [
    "dict1={}\n",
    "for x in range(len(train_x2_df.columns)):\n",
    "    dict1[x]=train_x2_df.columns[x]\n",
    "x=[v for v in range(len(train_x2_df.columns))]\n",
    "def maped(x):\n",
    "    return dict1[x]\n",
    "#print(x)"
   ]
  },
  {
   "cell_type": "code",
   "execution_count": 58,
   "metadata": {
    "collapsed": false,
    "scrolled": true
   },
   "outputs": [
    {
     "data": {
      "text/plain": [
       "([<matplotlib.axis.XTick at 0x1cd7f0446a0>,\n",
       "  <matplotlib.axis.XTick at 0x1cd7f044dd8>,\n",
       "  <matplotlib.axis.XTick at 0x1cd7f165ac8>,\n",
       "  <matplotlib.axis.XTick at 0x1cd7f1e2e10>,\n",
       "  <matplotlib.axis.XTick at 0x1cd7f1e5860>,\n",
       "  <matplotlib.axis.XTick at 0x1cd7f1eb2b0>,\n",
       "  <matplotlib.axis.XTick at 0x1cd7f1ebcc0>,\n",
       "  <matplotlib.axis.XTick at 0x1cd7f1ef710>,\n",
       "  <matplotlib.axis.XTick at 0x1cd7f1f3160>,\n",
       "  <matplotlib.axis.XTick at 0x1cd7f1f3b70>,\n",
       "  <matplotlib.axis.XTick at 0x1cd7f1f75c0>,\n",
       "  <matplotlib.axis.XTick at 0x1cd7f1f7fd0>,\n",
       "  <matplotlib.axis.XTick at 0x1cd7f1fca20>,\n",
       "  <matplotlib.axis.XTick at 0x1cd7f1fe470>,\n",
       "  <matplotlib.axis.XTick at 0x1cd7f1fee80>,\n",
       "  <matplotlib.axis.XTick at 0x1cd7f2028d0>,\n",
       "  <matplotlib.axis.XTick at 0x1cd7f207320>,\n",
       "  <matplotlib.axis.XTick at 0x1cd7f207d30>,\n",
       "  <matplotlib.axis.XTick at 0x1cd7f171d68>],\n",
       " <a list of 19 Text xticklabel objects>)"
      ]
     },
     "execution_count": 58,
     "metadata": {},
     "output_type": "execute_result"
    },
    {
     "data": {
      "image/png": "[encoded data removed]",
      "text/plain": [
       "<matplotlib.figure.Figure at 0x1cd7f15a6a0>"
      ]
     },
     "metadata": {},
     "output_type": "display_data"
    }
   ],
   "source": [
    "plt.bar(x,model2.feature_importances_)\n",
    "plt.xticks(x,[dict1[v] for v in range(len(x))],rotation=90)"
   ]
  },
  {
   "cell_type": "code",
   "execution_count": 59,
   "metadata": {
    "collapsed": false,
    "scrolled": true
   },
   "outputs": [
    {
     "name": "stdout",
     "output_type": "stream",
     "text": [
      "                0  importance\n",
      "1            blue    0.000000\n",
      "16   touch_screen    0.000000\n",
      "3        dual_sim    0.000834\n",
      "17           wifi    0.000834\n",
      "13           sc_h    0.002593\n",
      "18   four_three_g    0.002751\n",
      "5      int_memory    0.003334\n",
      "6           m_dep    0.003890\n",
      "15      talk_time    0.004844\n",
      "4              fc    0.004962\n",
      "14           sc_w    0.008231\n",
      "9              pc    0.010010\n",
      "2     clock_speed    0.010577\n",
      "7       mobile_wt    0.017835\n",
      "8         n_cores    0.020373\n",
      "10      px_height    0.067955\n",
      "11       px_width    0.092953\n",
      "0   battery_power    0.099138\n",
      "12            ram    0.648888\n"
     ]
    }
   ],
   "source": [
    "features_df=pd.DataFrame(train_x2_df.columns)\n",
    "features_df['importance']=model2.feature_importances_\n",
    "print(features_df.sort_values(by=['importance']))"
   ]
  },
  {
   "cell_type": "code",
   "execution_count": 60,
   "metadata": {
    "collapsed": false
   },
   "outputs": [
    {
     "data": {
      "text/plain": [
       "0.85"
      ]
     },
     "execution_count": 60,
     "metadata": {},
     "output_type": "execute_result"
    }
   ],
   "source": [
    "model2.score(test_x2_df,test_y_df)"
   ]
  },
  {
   "cell_type": "code",
   "execution_count": 63,
   "metadata": {
    "collapsed": false
   },
   "outputs": [],
   "source": [
    "train_df['four_three_g']=0.5*train_df['four_g']+train_df['three_g']\n",
    "variables=train_x2_df.columns\n",
    "target=['price_range']"
   ]
  },
  {
   "cell_type": "code",
   "execution_count": 64,
   "metadata": {
    "collapsed": true
   },
   "outputs": [],
   "source": [
    "test_df['four_three_g']=0.5*test_df['four_g']+test_df['three_g']"
   ]
  },
  {
   "cell_type": "code",
   "execution_count": 84,
   "metadata": {
    "collapsed": true
   },
   "outputs": [],
   "source": [
    "train_x3_df=train_x2_df.drop(['blue','touch_screen'],axis=1)\n",
    "test_x3_df=test_x2_df.drop(['blue','touch_screen'],axis=1)\n",
    "train_df2=train_df.drop(['blue','touch_screen'],axis=1)\n",
    "test_df2=test_df.drop(['blue','touch_screen'],axis=1)"
   ]
  },
  {
   "cell_type": "code",
   "execution_count": 85,
   "metadata": {
    "collapsed": false
   },
   "outputs": [
    {
     "data": {
      "text/plain": [
       "DecisionTreeClassifier(class_weight=None, criterion='gini', max_depth=None,\n",
       "            max_features=None, max_leaf_nodes=None, min_samples_leaf=1,\n",
       "            min_samples_split=2, min_weight_fraction_leaf=0.0,\n",
       "            presort=False, random_state=None, splitter='best')"
      ]
     },
     "execution_count": 85,
     "metadata": {},
     "output_type": "execute_result"
    }
   ],
   "source": [
    "model2.fit(train_x3_df,train_y_df)"
   ]
  },
  {
   "cell_type": "code",
   "execution_count": 86,
   "metadata": {
    "collapsed": true
   },
   "outputs": [],
   "source": [
    "dict1={}\n",
    "for x in range(len(train_x3_df.columns)):\n",
    "    dict1[x]=train_x3_df.columns[x]\n",
    "x=[v for v in range(len(train_x3_df.columns))]\n",
    "def maped(x):\n",
    "    return dict1[x]"
   ]
  },
  {
   "cell_type": "code",
   "execution_count": 87,
   "metadata": {
    "collapsed": false
   },
   "outputs": [
    {
     "data": {
      "text/plain": [
       "([<matplotlib.axis.XTick at 0x1cd7f47ec50>,\n",
       "  <matplotlib.axis.XTick at 0x1cd7f4756a0>,\n",
       "  <matplotlib.axis.XTick at 0x1cd7f461b00>,\n",
       "  <matplotlib.axis.XTick at 0x1cd7f4da6d8>,\n",
       "  <matplotlib.axis.XTick at 0x1cd7f4df128>,\n",
       "  <matplotlib.axis.XTick at 0x1cd7f4dfb38>,\n",
       "  <matplotlib.axis.XTick at 0x1cd7f4e3588>,\n",
       "  <matplotlib.axis.XTick at 0x1cd7f4e3f98>,\n",
       "  <matplotlib.axis.XTick at 0x1cd7f4e69e8>,\n",
       "  <matplotlib.axis.XTick at 0x1cd7f4ea438>,\n",
       "  <matplotlib.axis.XTick at 0x1cd7f4eae48>,\n",
       "  <matplotlib.axis.XTick at 0x1cd7f4ed898>,\n",
       "  <matplotlib.axis.XTick at 0x1cd7f4f22e8>,\n",
       "  <matplotlib.axis.XTick at 0x1cd7f4f2cf8>,\n",
       "  <matplotlib.axis.XTick at 0x1cd7f4f8748>,\n",
       "  <matplotlib.axis.XTick at 0x1cd7f4fb198>,\n",
       "  <matplotlib.axis.XTick at 0x1cd7f4fbba8>],\n",
       " <a list of 17 Text xticklabel objects>)"
      ]
     },
     "execution_count": 87,
     "metadata": {},
     "output_type": "execute_result"
    },
    {
     "data": {
      "image/png": "[encoded data removed]",
      "text/plain": [
       "<matplotlib.figure.Figure at 0x1cd7f479c88>"
      ]
     },
     "metadata": {},
     "output_type": "display_data"
    }
   ],
   "source": [
    "plt.bar(x,model2.feature_importances_)\n",
    "plt.xticks(x,[dict1[v] for v in range(len(x))],rotation=90)"
   ]
  },
  {
   "cell_type": "code",
   "execution_count": 88,
   "metadata": {
    "collapsed": false
   },
   "outputs": [
    {
     "name": "stdout",
     "output_type": "stream",
     "text": [
      "                0  importance\n",
      "15           wifi    0.000000\n",
      "16   four_three_g    0.001250\n",
      "2        dual_sim    0.001250\n",
      "5           m_dep    0.001667\n",
      "4      int_memory    0.003513\n",
      "3              fc    0.003572\n",
      "12           sc_h    0.003652\n",
      "14      talk_time    0.008595\n",
      "1     clock_speed    0.009688\n",
      "13           sc_w    0.010398\n",
      "8              pc    0.011470\n",
      "6       mobile_wt    0.013877\n",
      "7         n_cores    0.022223\n",
      "9       px_height    0.068242\n",
      "10       px_width    0.098887\n",
      "0   battery_power    0.099542\n",
      "11            ram    0.642172\n"
     ]
    }
   ],
   "source": [
    "features_df=pd.DataFrame(train_x3_df.columns)\n",
    "features_df['importance']=model2.feature_importances_\n",
    "print(features_df.sort_values(by=['importance']))"
   ]
  },
  {
   "cell_type": "code",
   "execution_count": 89,
   "metadata": {
    "collapsed": false
   },
   "outputs": [
    {
     "data": {
      "text/plain": [
       "0.84"
      ]
     },
     "execution_count": 89,
     "metadata": {},
     "output_type": "execute_result"
    }
   ],
   "source": [
    "model2.score(test_x3_df,test_y_df)"
   ]
  },
  {
   "cell_type": "code",
   "execution_count": null,
   "metadata": {
    "collapsed": true
   },
   "outputs": [],
   "source": []
  },
  {
   "cell_type": "code",
   "execution_count": 61,
   "metadata": {
    "collapsed": true
   },
   "outputs": [],
   "source": [
    "from sklearn import cross_validation,metrics\n",
    "from sklearn.cross_validation import KFold\n",
    "#target=[\"Item_Outlet_Sales\"]\n",
    "#Idcol=[\"Item_Identifier\",\"Outlet_Identifier\"]\n",
    "def Kfold(model,dtrain,target,variables):\n",
    "    model.fit(dtrain[variables],dtrain[target])\n",
    "    predictions=model.predict(dtrain[variables])\n",
    "    error=metrics.accuracy_score(dtrain[target],predictions)\n",
    "    print(\"the accuracy on train set is {0}\".format(np.sqrt(np.abs(error))))\n",
    "    kf=KFold(dtrain.shape[0],n_folds=8)\n",
    "    error=[]\n",
    "    for train,test  in kf:\n",
    "        train_data=dtrain[variables].iloc[train,:]\n",
    "        test_data=dtrain[variables].iloc[test,:]\n",
    "        train_y=dtrain[target].iloc[train]\n",
    "        test_y=dtrain[target].iloc[test]\n",
    "        model.fit(train_data,train_y)\n",
    "        predictions=model.predict(test_data)\n",
    "        error.append(metrics.accuracy_score(test_y,predictions))\n",
    "        error_val=np.mean(error)\n",
    "    print(\"cross_validation accuracy is {0}\".format(error_val))"
   ]
  },
  {
   "cell_type": "code",
   "execution_count": 66,
   "metadata": {
    "collapsed": false
   },
   "outputs": [],
   "source": [
    "from sklearn.preprocessing import StandardScaler\n",
    "scalar=StandardScaler()\n",
    "train_df[variables]=scalar.fit_transform(train_df[variables])\n",
    "test_df[variables]=scalar.fit_transform(test_df[variables])"
   ]
  },
  {
   "cell_type": "code",
   "execution_count": 67,
   "metadata": {
    "collapsed": false
   },
   "outputs": [
    {
     "name": "stderr",
     "output_type": "stream",
     "text": [
      "C:\\Anaconda3\\lib\\site-packages\\sklearn\\svm\\base.py:514: DataConversionWarning: A column-vector y was passed when a 1d array was expected. Please change the shape of y to (n_samples, ), for example using ravel().\n",
      "  y_ = column_or_1d(y, warn=True)\n",
      "C:\\Anaconda3\\lib\\site-packages\\sklearn\\svm\\base.py:514: DataConversionWarning: A column-vector y was passed when a 1d array was expected. Please change the shape of y to (n_samples, ), for example using ravel().\n",
      "  y_ = column_or_1d(y, warn=True)\n",
      "C:\\Anaconda3\\lib\\site-packages\\sklearn\\svm\\base.py:514: DataConversionWarning: A column-vector y was passed when a 1d array was expected. Please change the shape of y to (n_samples, ), for example using ravel().\n",
      "  y_ = column_or_1d(y, warn=True)\n"
     ]
    },
    {
     "name": "stdout",
     "output_type": "stream",
     "text": [
      "the accuracy on train set is 0.9894442884771228\n"
     ]
    },
    {
     "name": "stderr",
     "output_type": "stream",
     "text": [
      "C:\\Anaconda3\\lib\\site-packages\\sklearn\\svm\\base.py:514: DataConversionWarning: A column-vector y was passed when a 1d array was expected. Please change the shape of y to (n_samples, ), for example using ravel().\n",
      "  y_ = column_or_1d(y, warn=True)\n",
      "C:\\Anaconda3\\lib\\site-packages\\sklearn\\svm\\base.py:514: DataConversionWarning: A column-vector y was passed when a 1d array was expected. Please change the shape of y to (n_samples, ), for example using ravel().\n",
      "  y_ = column_or_1d(y, warn=True)\n",
      "C:\\Anaconda3\\lib\\site-packages\\sklearn\\svm\\base.py:514: DataConversionWarning: A column-vector y was passed when a 1d array was expected. Please change the shape of y to (n_samples, ), for example using ravel().\n",
      "  y_ = column_or_1d(y, warn=True)\n",
      "C:\\Anaconda3\\lib\\site-packages\\sklearn\\svm\\base.py:514: DataConversionWarning: A column-vector y was passed when a 1d array was expected. Please change the shape of y to (n_samples, ), for example using ravel().\n",
      "  y_ = column_or_1d(y, warn=True)\n",
      "C:\\Anaconda3\\lib\\site-packages\\sklearn\\svm\\base.py:514: DataConversionWarning: A column-vector y was passed when a 1d array was expected. Please change the shape of y to (n_samples, ), for example using ravel().\n",
      "  y_ = column_or_1d(y, warn=True)\n",
      "C:\\Anaconda3\\lib\\site-packages\\sklearn\\svm\\base.py:514: DataConversionWarning: A column-vector y was passed when a 1d array was expected. Please change the shape of y to (n_samples, ), for example using ravel().\n",
      "  y_ = column_or_1d(y, warn=True)\n"
     ]
    },
    {
     "name": "stdout",
     "output_type": "stream",
     "text": [
      "cross_validation accuracy is 0.9655\n"
     ]
    }
   ],
   "source": [
    "from sklearn.svm import SVC\n",
    "model=SVC(kernel='linear')\n",
    "Kfold(model,train_df,target,variables)"
   ]
  },
  {
   "cell_type": "code",
   "execution_count": 71,
   "metadata": {
    "collapsed": false
   },
   "outputs": [],
   "source": [
    "final1=pd.DataFrame(test_df['id'])\n",
    "final1['price_range']=model.predict(test_df[variables])\n",
    "final1.to_csv(\"Submission12.csv\")"
   ]
  },
  {
   "cell_type": "code",
   "execution_count": 73,
   "metadata": {
    "collapsed": true
   },
   "outputs": [],
   "source": [
    "train_X=train_df[variables]\n",
    "train_y=train_df['price_range']"
   ]
  },
  {
   "cell_type": "code",
   "execution_count": 75,
   "metadata": {
    "collapsed": false
   },
   "outputs": [
    {
     "name": "stdout",
     "output_type": "stream",
     "text": [
      "0.9725\n",
      "{'gamma': 0.001, 'C': 200}\n"
     ]
    }
   ],
   "source": [
    "from sklearn.grid_search import GridSearchCV\n",
    "params={'C':list(range(100,1100,100)),'gamma':[0.001,0.005,0.0075,0.01,0.05,0.075,0.1,0.5,0.75,1]}\n",
    "model_random1=GridSearchCV(model,param_grid=params,cv=8,scoring='accuracy')\n",
    "model_random1.fit(train_X,train_y)\n",
    "print(model_random1.best_score_)\n",
    "print(model_random1.best_params_)"
   ]
  },
  {
   "cell_type": "code",
   "execution_count": 80,
   "metadata": {
    "collapsed": false
   },
   "outputs": [
    {
     "data": {
      "text/plain": [
       "19"
      ]
     },
     "execution_count": 80,
     "metadata": {},
     "output_type": "execute_result"
    }
   ],
   "source": [
    "len(variables)"
   ]
  },
  {
   "cell_type": "code",
   "execution_count": 77,
   "metadata": {
    "collapsed": false
   },
   "outputs": [
    {
     "name": "stdout",
     "output_type": "stream",
     "text": [
      "0.9625\n"
     ]
    }
   ],
   "source": [
    "model_random1=SVC(kernel='linear',C=200,gamma=0.001)\n",
    "model_random1.fit(train_x2_df,train_y_df)\n",
    "print(model_random1.score(test_x2_df,test_y_df))"
   ]
  },
  {
   "cell_type": "code",
   "execution_count": 81,
   "metadata": {
    "collapsed": false,
    "scrolled": true
   },
   "outputs": [
    {
     "name": "stderr",
     "output_type": "stream",
     "text": [
      "C:\\Anaconda3\\lib\\site-packages\\sklearn\\svm\\base.py:514: DataConversionWarning: A column-vector y was passed when a 1d array was expected. Please change the shape of y to (n_samples, ), for example using ravel().\n",
      "  y_ = column_or_1d(y, warn=True)\n"
     ]
    },
    {
     "name": "stdout",
     "output_type": "stream",
     "text": [
      "the accuracy on train set is 0.9937303457175896\n"
     ]
    },
    {
     "name": "stderr",
     "output_type": "stream",
     "text": [
      "C:\\Anaconda3\\lib\\site-packages\\sklearn\\svm\\base.py:514: DataConversionWarning: A column-vector y was passed when a 1d array was expected. Please change the shape of y to (n_samples, ), for example using ravel().\n",
      "  y_ = column_or_1d(y, warn=True)\n",
      "C:\\Anaconda3\\lib\\site-packages\\sklearn\\svm\\base.py:514: DataConversionWarning: A column-vector y was passed when a 1d array was expected. Please change the shape of y to (n_samples, ), for example using ravel().\n",
      "  y_ = column_or_1d(y, warn=True)\n",
      "C:\\Anaconda3\\lib\\site-packages\\sklearn\\svm\\base.py:514: DataConversionWarning: A column-vector y was passed when a 1d array was expected. Please change the shape of y to (n_samples, ), for example using ravel().\n",
      "  y_ = column_or_1d(y, warn=True)\n",
      "C:\\Anaconda3\\lib\\site-packages\\sklearn\\svm\\base.py:514: DataConversionWarning: A column-vector y was passed when a 1d array was expected. Please change the shape of y to (n_samples, ), for example using ravel().\n",
      "  y_ = column_or_1d(y, warn=True)\n",
      "C:\\Anaconda3\\lib\\site-packages\\sklearn\\svm\\base.py:514: DataConversionWarning: A column-vector y was passed when a 1d array was expected. Please change the shape of y to (n_samples, ), for example using ravel().\n",
      "  y_ = column_or_1d(y, warn=True)\n",
      "C:\\Anaconda3\\lib\\site-packages\\sklearn\\svm\\base.py:514: DataConversionWarning: A column-vector y was passed when a 1d array was expected. Please change the shape of y to (n_samples, ), for example using ravel().\n",
      "  y_ = column_or_1d(y, warn=True)\n",
      "C:\\Anaconda3\\lib\\site-packages\\sklearn\\svm\\base.py:514: DataConversionWarning: A column-vector y was passed when a 1d array was expected. Please change the shape of y to (n_samples, ), for example using ravel().\n",
      "  y_ = column_or_1d(y, warn=True)\n",
      "C:\\Anaconda3\\lib\\site-packages\\sklearn\\svm\\base.py:514: DataConversionWarning: A column-vector y was passed when a 1d array was expected. Please change the shape of y to (n_samples, ), for example using ravel().\n",
      "  y_ = column_or_1d(y, warn=True)\n"
     ]
    },
    {
     "name": "stdout",
     "output_type": "stream",
     "text": [
      "cross_validation accuracy is 0.9704999999999999\n"
     ]
    }
   ],
   "source": [
    "Kfold(model_random1,train_df,target,variables)"
   ]
  },
  {
   "cell_type": "code",
   "execution_count": 83,
   "metadata": {
    "collapsed": false
   },
   "outputs": [],
   "source": [
    "final1['price_range']=model_random1.predict(test_df[variables])\n",
    "final1.to_csv(\"Submission13.csv\")"
   ]
  },
  {
   "cell_type": "code",
   "execution_count": 90,
   "metadata": {
    "collapsed": false
   },
   "outputs": [
    {
     "name": "stderr",
     "output_type": "stream",
     "text": [
      "C:\\Anaconda3\\lib\\site-packages\\sklearn\\svm\\base.py:514: DataConversionWarning: A column-vector y was passed when a 1d array was expected. Please change the shape of y to (n_samples, ), for example using ravel().\n",
      "  y_ = column_or_1d(y, warn=True)\n",
      "C:\\Anaconda3\\lib\\site-packages\\sklearn\\svm\\base.py:514: DataConversionWarning: A column-vector y was passed when a 1d array was expected. Please change the shape of y to (n_samples, ), for example using ravel().\n",
      "  y_ = column_or_1d(y, warn=True)\n"
     ]
    },
    {
     "name": "stdout",
     "output_type": "stream",
     "text": [
      "the accuracy on train set is 0.9891915891272024\n"
     ]
    },
    {
     "name": "stderr",
     "output_type": "stream",
     "text": [
      "C:\\Anaconda3\\lib\\site-packages\\sklearn\\svm\\base.py:514: DataConversionWarning: A column-vector y was passed when a 1d array was expected. Please change the shape of y to (n_samples, ), for example using ravel().\n",
      "  y_ = column_or_1d(y, warn=True)\n",
      "C:\\Anaconda3\\lib\\site-packages\\sklearn\\svm\\base.py:514: DataConversionWarning: A column-vector y was passed when a 1d array was expected. Please change the shape of y to (n_samples, ), for example using ravel().\n",
      "  y_ = column_or_1d(y, warn=True)\n",
      "C:\\Anaconda3\\lib\\site-packages\\sklearn\\svm\\base.py:514: DataConversionWarning: A column-vector y was passed when a 1d array was expected. Please change the shape of y to (n_samples, ), for example using ravel().\n",
      "  y_ = column_or_1d(y, warn=True)\n",
      "C:\\Anaconda3\\lib\\site-packages\\sklearn\\svm\\base.py:514: DataConversionWarning: A column-vector y was passed when a 1d array was expected. Please change the shape of y to (n_samples, ), for example using ravel().\n",
      "  y_ = column_or_1d(y, warn=True)\n",
      "C:\\Anaconda3\\lib\\site-packages\\sklearn\\svm\\base.py:514: DataConversionWarning: A column-vector y was passed when a 1d array was expected. Please change the shape of y to (n_samples, ), for example using ravel().\n",
      "  y_ = column_or_1d(y, warn=True)\n",
      "C:\\Anaconda3\\lib\\site-packages\\sklearn\\svm\\base.py:514: DataConversionWarning: A column-vector y was passed when a 1d array was expected. Please change the shape of y to (n_samples, ), for example using ravel().\n",
      "  y_ = column_or_1d(y, warn=True)\n",
      "C:\\Anaconda3\\lib\\site-packages\\sklearn\\svm\\base.py:514: DataConversionWarning: A column-vector y was passed when a 1d array was expected. Please change the shape of y to (n_samples, ), for example using ravel().\n",
      "  y_ = column_or_1d(y, warn=True)\n"
     ]
    },
    {
     "name": "stdout",
     "output_type": "stream",
     "text": [
      "cross_validation accuracy is 0.9664999999999999\n"
     ]
    }
   ],
   "source": [
    "variables1=train_x3_df.columns\n",
    "Kfold(model,train_df,target,variables1)"
   ]
  },
  {
   "cell_type": "code",
   "execution_count": 91,
   "metadata": {
    "collapsed": true
   },
   "outputs": [],
   "source": [
    "final1['price_range']=model.predict(test_df[variables1])\n",
    "final1.to_csv(\"Submission14.csv\")"
   ]
  },
  {
   "cell_type": "code",
   "execution_count": null,
   "metadata": {
    "collapsed": true
   },
   "outputs": [],
   "source": [
    "params={'C':list(range(100,3000,100)),'gamma':[0.001,0.005,0.0075,0.01,0.05,0.075,0.1,0.5,0.75,1]}\n",
    "model_random1=GridSearchCV(model,param_grid=params,cv=8,scoring='accuracy')\n",
    "train_X=train_df[variables1]\n",
    "model_random1.fit(train_X,train_y)\n",
    "print(model_random1.best_score_)\n",
    "print(model_random1.best_params_)"
   ]
  },
  {
   "cell_type": "code",
   "execution_count": 72,
   "metadata": {
    "collapsed": false
   },
   "outputs": [
    {
     "name": "stderr",
     "output_type": "stream",
     "text": [
      "C:\\Anaconda3\\lib\\site-packages\\sklearn\\svm\\base.py:514: DataConversionWarning: A column-vector y was passed when a 1d array was expected. Please change the shape of y to (n_samples, ), for example using ravel().\n",
      "  y_ = column_or_1d(y, warn=True)\n"
     ]
    },
    {
     "name": "stdout",
     "output_type": "stream",
     "text": [
      "the accuracy on train set is 0.9939818911831342\n"
     ]
    },
    {
     "name": "stderr",
     "output_type": "stream",
     "text": [
      "C:\\Anaconda3\\lib\\site-packages\\sklearn\\svm\\base.py:514: DataConversionWarning: A column-vector y was passed when a 1d array was expected. Please change the shape of y to (n_samples, ), for example using ravel().\n",
      "  y_ = column_or_1d(y, warn=True)\n",
      "C:\\Anaconda3\\lib\\site-packages\\sklearn\\svm\\base.py:514: DataConversionWarning: A column-vector y was passed when a 1d array was expected. Please change the shape of y to (n_samples, ), for example using ravel().\n",
      "  y_ = column_or_1d(y, warn=True)\n",
      "C:\\Anaconda3\\lib\\site-packages\\sklearn\\svm\\base.py:514: DataConversionWarning: A column-vector y was passed when a 1d array was expected. Please change the shape of y to (n_samples, ), for example using ravel().\n",
      "  y_ = column_or_1d(y, warn=True)\n",
      "C:\\Anaconda3\\lib\\site-packages\\sklearn\\svm\\base.py:514: DataConversionWarning: A column-vector y was passed when a 1d array was expected. Please change the shape of y to (n_samples, ), for example using ravel().\n",
      "  y_ = column_or_1d(y, warn=True)\n",
      "C:\\Anaconda3\\lib\\site-packages\\sklearn\\svm\\base.py:514: DataConversionWarning: A column-vector y was passed when a 1d array was expected. Please change the shape of y to (n_samples, ), for example using ravel().\n",
      "  y_ = column_or_1d(y, warn=True)\n",
      "C:\\Anaconda3\\lib\\site-packages\\sklearn\\svm\\base.py:514: DataConversionWarning: A column-vector y was passed when a 1d array was expected. Please change the shape of y to (n_samples, ), for example using ravel().\n",
      "  y_ = column_or_1d(y, warn=True)\n",
      "C:\\Anaconda3\\lib\\site-packages\\sklearn\\svm\\base.py:514: DataConversionWarning: A column-vector y was passed when a 1d array was expected. Please change the shape of y to (n_samples, ), for example using ravel().\n",
      "  y_ = column_or_1d(y, warn=True)\n",
      "C:\\Anaconda3\\lib\\site-packages\\sklearn\\svm\\base.py:514: DataConversionWarning: A column-vector y was passed when a 1d array was expected. Please change the shape of y to (n_samples, ), for example using ravel().\n",
      "  y_ = column_or_1d(y, warn=True)\n"
     ]
    },
    {
     "name": "stdout",
     "output_type": "stream",
     "text": [
      "cross_validation accuracy is 0.8855\n"
     ]
    }
   ],
   "source": [
    "model1=SVC(kernel='rbf')\n",
    "Kfold(model1,train_df,target,variables)"
   ]
  },
  {
   "cell_type": "code",
   "execution_count": 19,
   "metadata": {
    "collapsed": false
   },
   "outputs": [
    {
     "name": "stdout",
     "output_type": "stream",
     "text": [
      "0.85\n"
     ]
    },
    {
     "name": "stderr",
     "output_type": "stream",
     "text": [
      "C:\\Anaconda3\\lib\\site-packages\\sklearn\\ensemble\\weight_boosting.py:29: DeprecationWarning: numpy.core.umath_tests is an internal NumPy module and should not be imported. It will be removed in a future NumPy release.\n",
      "  from numpy.core.umath_tests import inner1d\n"
     ]
    }
   ],
   "source": [
    "from sklearn.ensemble import RandomForestClassifier\n",
    "model3=RandomForestClassifier()\n",
    "model3.fit(train_x_df,train_y_df)\n",
    "print(model3.score(test_x_df,test_y_df))"
   ]
  },
  {
   "cell_type": "code",
   "execution_count": 20,
   "metadata": {
    "collapsed": false
   },
   "outputs": [
    {
     "name": "stdout",
     "output_type": "stream",
     "text": [
      "0.9025\n"
     ]
    }
   ],
   "source": [
    "from sklearn.ensemble import GradientBoostingClassifier\n",
    "model4=GradientBoostingClassifier()\n",
    "model4.fit(train_x_df,train_y_df)\n",
    "print(model4.score(test_x_df,test_y_df))"
   ]
  },
  {
   "cell_type": "code",
   "execution_count": 47,
   "metadata": {
    "collapsed": true
   },
   "outputs": [],
   "source": [
    "v=test_df['id']"
   ]
  },
  {
   "cell_type": "code",
   "execution_count": 50,
   "metadata": {
    "collapsed": false
   },
   "outputs": [],
   "source": [
    "#test set\n",
    "test_y=model4.predict(test_df[variables])\n",
    "final1=pd.DataFrame(v,columns=['id'])\n",
    "final1['price_range']=test_y\n",
    "final1.to_csv(\"Submission1.csv\")"
   ]
  },
  {
   "cell_type": "code",
   "execution_count": 49,
   "metadata": {
    "collapsed": false,
    "scrolled": true
   },
   "outputs": [
    {
     "data": {
      "text/html": [
       "<div>\n",
       "<table border=\"1\" class=\"dataframe\">\n",
       "  <thead>\n",
       "    <tr style=\"text-align: right;\">\n",
       "      <th></th>\n",
       "      <th>id</th>\n",
       "      <th>price_range</th>\n",
       "    </tr>\n",
       "  </thead>\n",
       "  <tbody>\n",
       "    <tr>\n",
       "      <th>0</th>\n",
       "      <td>1</td>\n",
       "      <td>3</td>\n",
       "    </tr>\n",
       "    <tr>\n",
       "      <th>1</th>\n",
       "      <td>2</td>\n",
       "      <td>3</td>\n",
       "    </tr>\n",
       "    <tr>\n",
       "      <th>2</th>\n",
       "      <td>3</td>\n",
       "      <td>3</td>\n",
       "    </tr>\n",
       "    <tr>\n",
       "      <th>3</th>\n",
       "      <td>4</td>\n",
       "      <td>3</td>\n",
       "    </tr>\n",
       "    <tr>\n",
       "      <th>4</th>\n",
       "      <td>5</td>\n",
       "      <td>1</td>\n",
       "    </tr>\n",
       "    <tr>\n",
       "      <th>5</th>\n",
       "      <td>6</td>\n",
       "      <td>3</td>\n",
       "    </tr>\n",
       "    <tr>\n",
       "      <th>6</th>\n",
       "      <td>7</td>\n",
       "      <td>3</td>\n",
       "    </tr>\n",
       "    <tr>\n",
       "      <th>7</th>\n",
       "      <td>8</td>\n",
       "      <td>1</td>\n",
       "    </tr>\n",
       "    <tr>\n",
       "      <th>8</th>\n",
       "      <td>9</td>\n",
       "      <td>3</td>\n",
       "    </tr>\n",
       "    <tr>\n",
       "      <th>9</th>\n",
       "      <td>10</td>\n",
       "      <td>0</td>\n",
       "    </tr>\n",
       "  </tbody>\n",
       "</table>\n",
       "</div>"
      ],
      "text/plain": [
       "   id  price_range\n",
       "0   1            3\n",
       "1   2            3\n",
       "2   3            3\n",
       "3   4            3\n",
       "4   5            1\n",
       "5   6            3\n",
       "6   7            3\n",
       "7   8            1\n",
       "8   9            3\n",
       "9  10            0"
      ]
     },
     "execution_count": 49,
     "metadata": {},
     "output_type": "execute_result"
    }
   ],
   "source": [
    "final1.head(10)"
   ]
  },
  {
   "cell_type": "code",
   "execution_count": 22,
   "metadata": {
    "collapsed": false,
    "scrolled": true
   },
   "outputs": [
    {
     "name": "stdout",
     "output_type": "stream",
     "text": [
      "the accuracy on train set is 0.9992497185388646\n",
      "cross_validation accuracy is 0.9065000000000001\n"
     ]
    }
   ],
   "source": [
    "target='price_range'\n",
    "variables=train_x_df.columns\n",
    "Kfold(model4,train,target,variables)"
   ]
  },
  {
   "cell_type": "code",
   "execution_count": 33,
   "metadata": {
    "collapsed": false,
    "scrolled": true
   },
   "outputs": [
    {
     "name": "stdout",
     "output_type": "stream",
     "text": [
      "                0  features\n",
      "0   battery_power  0.141774\n",
      "1            blue  0.001059\n",
      "2     clock_speed  0.010669\n",
      "3        dual_sim  0.000096\n",
      "4              fc  0.010940\n",
      "5          four_g  0.000795\n",
      "6      int_memory  0.019007\n",
      "7           m_dep  0.007907\n",
      "8       mobile_wt  0.037503\n",
      "9         n_cores  0.005319\n",
      "10             pc  0.008019\n",
      "11      px_height  0.092573\n",
      "12       px_width  0.091907\n",
      "13            ram  0.543672\n",
      "14           sc_h  0.008284\n",
      "15           sc_w  0.008197\n",
      "16      talk_time  0.008475\n",
      "17        three_g  0.000553\n",
      "18   touch_screen  0.001399\n",
      "19           wifi  0.001854\n"
     ]
    }
   ],
   "source": [
    "features_df['features']=model4.feature_importances_\n",
    "print(features_df)"
   ]
  },
  {
   "cell_type": "code",
   "execution_count": 34,
   "metadata": {
    "collapsed": false,
    "scrolled": true
   },
   "outputs": [
    {
     "data": {
      "text/plain": [
       "([<matplotlib.axis.XTick at 0x1f46f22f470>,\n",
       "  <matplotlib.axis.XTick at 0x1f46f2266d8>,\n",
       "  <matplotlib.axis.XTick at 0x1f46f21be80>,\n",
       "  <matplotlib.axis.XTick at 0x1f46f212128>,\n",
       "  <matplotlib.axis.XTick at 0x1f46f22d470>,\n",
       "  <matplotlib.axis.XTick at 0x1f46f223710>,\n",
       "  <matplotlib.axis.XTick at 0x1f46f21b5c0>,\n",
       "  <matplotlib.axis.XTick at 0x1f46f212518>,\n",
       "  <matplotlib.axis.XTick at 0x1f46f212d30>,\n",
       "  <matplotlib.axis.XTick at 0x1f46f2a8668>,\n",
       "  <matplotlib.axis.XTick at 0x1f46f2ab0b8>,\n",
       "  <matplotlib.axis.XTick at 0x1f46f2abac8>,\n",
       "  <matplotlib.axis.XTick at 0x1f46f2af518>,\n",
       "  <matplotlib.axis.XTick at 0x1f46f2aff28>,\n",
       "  <matplotlib.axis.XTick at 0x1f46f2b2978>,\n",
       "  <matplotlib.axis.XTick at 0x1f46f2b63c8>,\n",
       "  <matplotlib.axis.XTick at 0x1f46f2b6dd8>,\n",
       "  <matplotlib.axis.XTick at 0x1f46f2ba828>,\n",
       "  <matplotlib.axis.XTick at 0x1f46f2be278>,\n",
       "  <matplotlib.axis.XTick at 0x1f46f2bec88>],\n",
       " <a list of 20 Text xticklabel objects>)"
      ]
     },
     "execution_count": 34,
     "metadata": {},
     "output_type": "execute_result"
    },
    {
     "data": {
      "image/png": "[encoded data removed]",
      "text/plain": [
       "<matplotlib.figure.Figure at 0x1f46f1ebc50>"
      ]
     },
     "metadata": {},
     "output_type": "display_data"
    }
   ],
   "source": [
    "plt.bar(x,model4.feature_importances_)\n",
    "plt.xticks(x,[dict1[v] for v in range(len(x))],rotation=90)"
   ]
  },
  {
   "cell_type": "code",
   "execution_count": 23,
   "metadata": {
    "collapsed": false,
    "scrolled": true
   },
   "outputs": [
    {
     "name": "stdout",
     "output_type": "stream",
     "text": [
      "{'min_samples_split': 3}\n",
      "0.9115\n"
     ]
    }
   ],
   "source": [
    "from sklearn.grid_search import GridSearchCV\n",
    "params={'min_samples_split':list(range(2,6))}\n",
    "model4_random1=GridSearchCV(model4,param_grid=params,cv=8,scoring='accuracy')\n",
    "model4_random1.fit(train_X,train_y)\n",
    "print(model4_random1.best_params_)\n",
    "print(model4_random1.best_score_)"
   ]
  },
  {
   "cell_type": "code",
   "execution_count": 56,
   "metadata": {
    "collapsed": false
   },
   "outputs": [],
   "source": [
    "model4_random1=GradientBoostingClassifier(min_samples_split=3)\n",
    "model4_random1.fit(train_X,train_y)\n",
    "test_y=model4_random1.predict(test_df[variables])\n",
    "final1['price_range']=test_y\n",
    "final1.to_csv(\"Submission2.csv\")"
   ]
  },
  {
   "cell_type": "code",
   "execution_count": 62,
   "metadata": {
    "collapsed": false
   },
   "outputs": [
    {
     "name": "stdout",
     "output_type": "stream",
     "text": [
      "the error on train set is 0.9989994994993742\n",
      "cross_validation accuracy is 0.9075\n"
     ]
    }
   ],
   "source": [
    "Kfold(model4_random1,train,target,variables)"
   ]
  },
  {
   "cell_type": "code",
   "execution_count": 57,
   "metadata": {
    "collapsed": false
   },
   "outputs": [
    {
     "name": "stdout",
     "output_type": "stream",
     "text": [
      "{'min_samples_leaf': 6}\n",
      "0.9145\n"
     ]
    }
   ],
   "source": [
    "params={'min_samples_leaf':list(range(1,10))}\n",
    "model4_random2=GridSearchCV(model4,param_grid=params,cv=8,scoring='accuracy')\n",
    "model4_random2.fit(train_X,train_y)\n",
    "print(model4_random2.best_params_)\n",
    "print(model4_random2.best_score_)"
   ]
  },
  {
   "cell_type": "code",
   "execution_count": 64,
   "metadata": {
    "collapsed": false
   },
   "outputs": [
    {
     "name": "stdout",
     "output_type": "stream",
     "text": [
      "the accuracy on train set is 0.999499874937461\n",
      "cross_validation accuracy is 0.912\n"
     ]
    }
   ],
   "source": [
    "Kfold(model4_random2,train,target,variables)"
   ]
  },
  {
   "cell_type": "code",
   "execution_count": 60,
   "metadata": {
    "collapsed": false
   },
   "outputs": [],
   "source": [
    "model4_random2=GradientBoostingClassifier(min_samples_leaf=6)\n",
    "model4_random2.fit(train_X,train_y)\n",
    "test_y=model4_random2.predict(test_df[variables])\n",
    "final1['price_range']=test_y\n",
    "final1.to_csv(\"Submission3.csv\")"
   ]
  },
  {
   "cell_type": "code",
   "execution_count": 65,
   "metadata": {
    "collapsed": false
   },
   "outputs": [
    {
     "name": "stdout",
     "output_type": "stream",
     "text": [
      "the accuracy on train set is 0.999499874937461\n",
      "cross_validation accuracy is 0.9135\n"
     ]
    }
   ],
   "source": [
    "model4_2=GradientBoostingClassifier(min_samples_split=3,min_samples_leaf=6)\n",
    "Kfold(model4_2,train,target,variables)"
   ]
  },
  {
   "cell_type": "code",
   "execution_count": 66,
   "metadata": {
    "collapsed": true
   },
   "outputs": [],
   "source": [
    "test_y=model4_2.predict(test_df[variables])\n",
    "final1['price_range']=test_y\n",
    "final1.to_csv(\"Submission4.csv\")"
   ]
  },
  {
   "cell_type": "code",
   "execution_count": 68,
   "metadata": {
    "collapsed": false
   },
   "outputs": [
    {
     "name": "stdout",
     "output_type": "stream",
     "text": [
      "{'max_depth': 3}\n",
      "0.914\n"
     ]
    }
   ],
   "source": [
    "params={'max_depth':list(range(2,5))}\n",
    "model4_2random1=GridSearchCV(model4_2,param_grid=params,cv=8,scoring='accuracy')\n",
    "model4_2random1.fit(train_X,train_y)\n",
    "print(model4_2random1.best_params_)\n",
    "print(model4_2random1.best_score_)"
   ]
  },
  {
   "cell_type": "code",
   "execution_count": 69,
   "metadata": {
    "collapsed": false
   },
   "outputs": [
    {
     "name": "stdout",
     "output_type": "stream",
     "text": [
      "the accuracy on train set is 0.999499874937461\n",
      "cross_validation accuracy is 0.913\n"
     ]
    }
   ],
   "source": [
    "model4_2random1=GradientBoostingClassifier(min_samples_split=3,min_samples_leaf=6,max_depth=3)\n",
    "Kfold(model4_2random1,train,target,variables)"
   ]
  },
  {
   "cell_type": "code",
   "execution_count": 70,
   "metadata": {
    "collapsed": false
   },
   "outputs": [
    {
     "name": "stdout",
     "output_type": "stream",
     "text": [
      "{'max_features': 16}\n",
      "0.9125\n"
     ]
    }
   ],
   "source": [
    "params={'max_features':list(range(5,20))}\n",
    "model4_2random2=GridSearchCV(model4_2,param_grid=params,cv=8,scoring='accuracy')\n",
    "model4_2random2.fit(train_X,train_y)\n",
    "print(model4_2random2.best_params_)\n",
    "print(model4_2random2.best_score_)"
   ]
  },
  {
   "cell_type": "code",
   "execution_count": 71,
   "metadata": {
    "collapsed": false
   },
   "outputs": [
    {
     "name": "stdout",
     "output_type": "stream",
     "text": [
      "the accuracy on train set is 0.998749217771909\n",
      "cross_validation accuracy is 0.9135\n"
     ]
    }
   ],
   "source": [
    "model4_2random2=GradientBoostingClassifier(min_samples_split=3,min_samples_leaf=6,max_depth=3,max_features=16)\n",
    "Kfold(model4_2random2,train,target,variables)"
   ]
  },
  {
   "cell_type": "code",
   "execution_count": 72,
   "metadata": {
    "collapsed": true
   },
   "outputs": [],
   "source": [
    "model4_2random2.fit(train_X,train_y)\n",
    "test_y=model4_2random2.predict(test_df[variables])\n",
    "final1['price_range']=test_y\n",
    "final1.to_csv(\"Submission5.csv\")"
   ]
  },
  {
   "cell_type": "code",
   "execution_count": 76,
   "metadata": {
    "collapsed": false
   },
   "outputs": [
    {
     "name": "stdout",
     "output_type": "stream",
     "text": [
      "the accuracy on train set is 0.9984988733093293\n",
      "cross_validation accuracy is 0.908\n"
     ]
    }
   ],
   "source": [
    "model4_3=GradientBoostingClassifier(min_samples_split=3,min_samples_leaf=6,max_depth=3,max_features=10)\n",
    "Kfold(model4_2random2,train,target,variables)"
   ]
  },
  {
   "cell_type": "code",
   "execution_count": 79,
   "metadata": {
    "collapsed": false
   },
   "outputs": [
    {
     "name": "stdout",
     "output_type": "stream",
     "text": [
      "the accuracy on train set is 0.99498743710662\n",
      "cross_validation accuracy is 0.974\n"
     ]
    }
   ],
   "source": [
    "from sklearn.svm import SVC\n",
    "model5=SVC(kernel='linear')\n",
    "Kfold(model5,train,target,variables)"
   ]
  },
  {
   "cell_type": "code",
   "execution_count": 80,
   "metadata": {
    "collapsed": true
   },
   "outputs": [],
   "source": [
    "test_y=model5.predict(test_df[variables])\n",
    "final1['price_range']=test_y\n",
    "final1.to_csv(\"Submission6.csv\")"
   ]
  },
  {
   "cell_type": "code",
   "execution_count": 78,
   "metadata": {
    "collapsed": false
   },
   "outputs": [
    {
     "name": "stdout",
     "output_type": "stream",
     "text": [
      "{'learning_rate': 0.25}\n",
      "0.914\n"
     ]
    }
   ],
   "source": [
    "v=list(range(10,55,5))\n",
    "params={'learning_rate':[float(x)/100 for x in v]}\n",
    "model4_2random3=GridSearchCV(model4_2random2,param_grid=params,cv=8,scoring='accuracy')\n",
    "model4_2random3.fit(train_X,train_y)\n",
    "print(model4_2random3.best_params_)\n",
    "print(model4_2random3.best_score_)"
   ]
  },
  {
   "cell_type": "code",
   "execution_count": 40,
   "metadata": {
    "collapsed": false
   },
   "outputs": [
    {
     "name": "stdout",
     "output_type": "stream",
     "text": [
      "0.9\n"
     ]
    },
    {
     "name": "stderr",
     "output_type": "stream",
     "text": [
      "C:\\Anaconda3\\lib\\site-packages\\sklearn\\preprocessing\\label.py:166: DeprecationWarning: The truth value of an empty array is ambiguous. Returning False, but in future this will result in an error. Use `array.size > 0` to check that an array is not empty.\n",
      "  if diff:\n"
     ]
    }
   ],
   "source": [
    "from xgboost.sklearn import XGBClassifier\n",
    "model5=XGBClassifier()\n",
    "model5.fit(train_x_df,train_y_df)\n",
    "print(model5.score(test_x_df,test_y_df))"
   ]
  },
  {
   "cell_type": "code",
   "execution_count": 43,
   "metadata": {
    "collapsed": false
   },
   "outputs": [
    {
     "name": "stderr",
     "output_type": "stream",
     "text": [
      "C:\\Anaconda3\\lib\\site-packages\\sklearn\\preprocessing\\label.py:166: DeprecationWarning: The truth value of an empty array is ambiguous. Returning False, but in future this will result in an error. Use `array.size > 0` to check that an array is not empty.\n",
      "  if diff:\n"
     ]
    },
    {
     "name": "stdout",
     "output_type": "stream",
     "text": [
      "the error on train set is 0.9902019995940222\n"
     ]
    },
    {
     "name": "stderr",
     "output_type": "stream",
     "text": [
      "C:\\Anaconda3\\lib\\site-packages\\sklearn\\preprocessing\\label.py:166: DeprecationWarning: The truth value of an empty array is ambiguous. Returning False, but in future this will result in an error. Use `array.size > 0` to check that an array is not empty.\n",
      "  if diff:\n",
      "C:\\Anaconda3\\lib\\site-packages\\sklearn\\preprocessing\\label.py:166: DeprecationWarning: The truth value of an empty array is ambiguous. Returning False, but in future this will result in an error. Use `array.size > 0` to check that an array is not empty.\n",
      "  if diff:\n",
      "C:\\Anaconda3\\lib\\site-packages\\sklearn\\preprocessing\\label.py:166: DeprecationWarning: The truth value of an empty array is ambiguous. Returning False, but in future this will result in an error. Use `array.size > 0` to check that an array is not empty.\n",
      "  if diff:\n",
      "C:\\Anaconda3\\lib\\site-packages\\sklearn\\preprocessing\\label.py:166: DeprecationWarning: The truth value of an empty array is ambiguous. Returning False, but in future this will result in an error. Use `array.size > 0` to check that an array is not empty.\n",
      "  if diff:\n",
      "C:\\Anaconda3\\lib\\site-packages\\sklearn\\preprocessing\\label.py:166: DeprecationWarning: The truth value of an empty array is ambiguous. Returning False, but in future this will result in an error. Use `array.size > 0` to check that an array is not empty.\n",
      "  if diff:\n",
      "C:\\Anaconda3\\lib\\site-packages\\sklearn\\preprocessing\\label.py:166: DeprecationWarning: The truth value of an empty array is ambiguous. Returning False, but in future this will result in an error. Use `array.size > 0` to check that an array is not empty.\n",
      "  if diff:\n",
      "C:\\Anaconda3\\lib\\site-packages\\sklearn\\preprocessing\\label.py:166: DeprecationWarning: The truth value of an empty array is ambiguous. Returning False, but in future this will result in an error. Use `array.size > 0` to check that an array is not empty.\n",
      "  if diff:\n"
     ]
    },
    {
     "name": "stdout",
     "output_type": "stream",
     "text": [
      "cross_validation accuracy is 0.9015\n",
      "None\n"
     ]
    },
    {
     "name": "stderr",
     "output_type": "stream",
     "text": [
      "C:\\Anaconda3\\lib\\site-packages\\sklearn\\preprocessing\\label.py:166: DeprecationWarning: The truth value of an empty array is ambiguous. Returning False, but in future this will result in an error. Use `array.size > 0` to check that an array is not empty.\n",
      "  if diff:\n"
     ]
    }
   ],
   "source": [
    "print(Kfold(model5,train,target,variables))"
   ]
  },
  {
   "cell_type": "code",
   "execution_count": null,
   "metadata": {
    "collapsed": true
   },
   "outputs": [],
   "source": []
  }
 ],
 "metadata": {
  "anaconda-cloud": {},
  "kernelspec": {
   "display_name": "Python [conda root]",
   "language": "python",
   "name": "conda-root-py"
  },
  "language_info": {
   "codemirror_mode": {
    "name": "ipython",
    "version": 3
   },
   "file_extension": ".py",
   "mimetype": "text/x-python",
   "name": "python",
   "nbconvert_exporter": "python",
   "pygments_lexer": "ipython3",
   "version": "3.5.2"
  }
 },
 "nbformat": 4,
 "nbformat_minor": 1
}
